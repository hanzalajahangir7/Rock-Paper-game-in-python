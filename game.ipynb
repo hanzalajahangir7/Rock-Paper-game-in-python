{
 "cells": [
  {
   "cell_type": "code",
   "execution_count": 1,
   "id": "fe1f6472-e074-4186-bc9f-c73baa2d732c",
   "metadata": {},
   "outputs": [],
   "source": [
    "import random"
   ]
  },
  {
   "cell_type": "code",
   "execution_count": 39,
   "id": "835903bd-bd33-4b70-a657-da1633684a6f",
   "metadata": {},
   "outputs": [
    {
     "name": "stdin",
     "output_type": "stream",
     "text": [
      "enter your choice: rock,paper rock\n"
     ]
    },
    {
     "name": "stdout",
     "output_type": "stream",
     "text": [
      "player choose : rock, computer choose : ['rock']\n",
      "paper covers rock\n"
     ]
    }
   ],
   "source": [
    "def game():\n",
    "    player_choice = input(\"enter your choice: rock,paper\")\n",
    "    options = [\"rock\",\"paper\"]\n",
    "    computer_choice = random.choices(options)\n",
    "    choices = {\"player\" : player_choice, \"computer\":computer_choice}\n",
    "    return choices\n",
    "\n",
    "def check_win(player, computer):\n",
    "    print(f'player choose : {player}, computer choose : {computer}')\n",
    "    if player == computer:\n",
    "        return (\"Its draw\")\n",
    "    elif player == \"rock\":\n",
    "        if computer == \"paper\":\n",
    "            print( \"rock cannot win over paper\")\n",
    "        else:\n",
    "            return (\"paper covers rock\")\n",
    "    elif player == \"paper\":\n",
    "        if computer == \"rock\":\n",
    "            print(\"computer wins\")\n",
    "        else:\n",
    "            return(\"player wins\")\n",
    "\n",
    "\n",
    "mygame = game()\n",
    "result = check_win(mygame[\"player\"],mygame[\"computer\"])\n",
    "\n",
    "print(result)\n"
   ]
  },
  {
   "cell_type": "code",
   "execution_count": null,
   "id": "3d0e6fdc-b39e-401a-8805-61a8ea0c35d9",
   "metadata": {},
   "outputs": [],
   "source": []
  }
 ],
 "metadata": {
  "kernelspec": {
   "display_name": "Python 3 (ipykernel)",
   "language": "python",
   "name": "python3"
  },
  "language_info": {
   "codemirror_mode": {
    "name": "ipython",
    "version": 3
   },
   "file_extension": ".py",
   "mimetype": "text/x-python",
   "name": "python",
   "nbconvert_exporter": "python",
   "pygments_lexer": "ipython3",
   "version": "3.13.1"
  }
 },
 "nbformat": 4,
 "nbformat_minor": 5
}
